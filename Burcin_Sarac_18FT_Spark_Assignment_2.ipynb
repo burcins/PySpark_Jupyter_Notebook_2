{
 "cells": [
  {
   "cell_type": "markdown",
   "metadata": {},
   "source": [
    "#  Blog Comments Predictions\n",
    "\n",
    "> Burcin Sarac<br/>\n",
    "> MSc. Business Analytics FT18<br/>\n",
    "> Department of Management Science and Technology<br/>\n",
    "> Athens University of Economics and Business"
   ]
  },
  {
   "cell_type": "markdown",
   "metadata": {},
   "source": [
    "In this project I will try to predict the number of comments that a blog post receives based on features of the post by using Pyspark. The data was provided from the UCI Machine Learning Archive at this link <https://archive.ics.uci.edu/ml/datasets/BlogFeedback>.\n",
    "\n",
    "I also get some ideas from a paper by [Krisztian Buza](http://www.cs.bme.hu/~buza/) (2014): Feedback Prediction for Blogs. In Data Analysis, Machine Learning and Knowledge Discovery (pp. 145-152), available at <http://www.cs.bme.hu/~buza/pdfs/gfkl2012_blogs.pdf>, in which the data were originally used."
   ]
  },
  {
   "cell_type": "code",
   "execution_count": 2,
   "metadata": {},
   "outputs": [],
   "source": [
    "import os\n",
    "os.chdir(\"E:/dersler/big data systems/Assignment_2\")"
   ]
  },
  {
   "cell_type": "code",
   "execution_count": 3,
   "metadata": {},
   "outputs": [],
   "source": [
    "import findspark\n",
    "findspark.init(\"E:/Python/spark/spark2.4.2\")\n",
    "from pyspark.sql import SparkSession\n",
    "\n",
    "spark =  SparkSession.builder.appName(\"Feedback\").getOrCreate()\n",
    "\n",
    "sc = spark.sparkContext"
   ]
  },
  {
   "cell_type": "markdown",
   "metadata": {},
   "source": [
    "According to dataset information provided by the webpage, my aim will be feedback prediction by using transformed previous feedback data. For feedbacks, blog posts from [torokgaborelemez.blog.hu](torokgaborelemez.blog.hu) were used.  Raw HTML-documents of the blog posts were crawled and processed. Detailed transformation approach can be seen from the original paper mentioned above.\n",
    "\n",
    "The train dataset includes data for the years between 2010 to 2011 and in the test data basetimes were Feb and March 2012. By using train dataset from past I am going to try predict future events included in test data. \n",
    "\n",
    "For reading datasets, I putted all test csv files into a folder called \"feedback\" and read all with a one command executed below. And I read train data separately with another command. "
   ]
  },
  {
   "cell_type": "code",
   "execution_count": 4,
   "metadata": {},
   "outputs": [],
   "source": [
    "testdf = spark.read.\\\n",
    "    option(\"inferSchema\", \"true\").\\\n",
    "    csv(\"feedback\")"
   ]
  },
  {
   "cell_type": "code",
   "execution_count": 5,
   "metadata": {},
   "outputs": [
    {
     "data": {
      "text/plain": [
       "7624"
      ]
     },
     "execution_count": 5,
     "metadata": {},
     "output_type": "execute_result"
    }
   ],
   "source": [
    "testdf.count()"
   ]
  },
  {
   "cell_type": "code",
   "execution_count": 6,
   "metadata": {},
   "outputs": [
    {
     "name": "stdout",
     "output_type": "stream",
     "text": [
      "root\n",
      " |-- _c0: double (nullable = true)\n",
      " |-- _c1: double (nullable = true)\n",
      " |-- _c2: double (nullable = true)\n",
      " |-- _c3: double (nullable = true)\n",
      " |-- _c4: double (nullable = true)\n",
      " |-- _c5: double (nullable = true)\n",
      " |-- _c6: double (nullable = true)\n",
      " |-- _c7: double (nullable = true)\n",
      " |-- _c8: double (nullable = true)\n",
      " |-- _c9: double (nullable = true)\n",
      " |-- _c10: double (nullable = true)\n",
      " |-- _c11: double (nullable = true)\n",
      " |-- _c12: double (nullable = true)\n",
      " |-- _c13: double (nullable = true)\n",
      " |-- _c14: double (nullable = true)\n",
      " |-- _c15: double (nullable = true)\n",
      " |-- _c16: double (nullable = true)\n",
      " |-- _c17: double (nullable = true)\n",
      " |-- _c18: double (nullable = true)\n",
      " |-- _c19: double (nullable = true)\n",
      " |-- _c20: double (nullable = true)\n",
      " |-- _c21: double (nullable = true)\n",
      " |-- _c22: double (nullable = true)\n",
      " |-- _c23: double (nullable = true)\n",
      " |-- _c24: double (nullable = true)\n",
      " |-- _c25: double (nullable = true)\n",
      " |-- _c26: double (nullable = true)\n",
      " |-- _c27: double (nullable = true)\n",
      " |-- _c28: double (nullable = true)\n",
      " |-- _c29: double (nullable = true)\n",
      " |-- _c30: double (nullable = true)\n",
      " |-- _c31: double (nullable = true)\n",
      " |-- _c32: double (nullable = true)\n",
      " |-- _c33: double (nullable = true)\n",
      " |-- _c34: double (nullable = true)\n",
      " |-- _c35: double (nullable = true)\n",
      " |-- _c36: double (nullable = true)\n",
      " |-- _c37: double (nullable = true)\n",
      " |-- _c38: double (nullable = true)\n",
      " |-- _c39: double (nullable = true)\n",
      " |-- _c40: double (nullable = true)\n",
      " |-- _c41: double (nullable = true)\n",
      " |-- _c42: double (nullable = true)\n",
      " |-- _c43: double (nullable = true)\n",
      " |-- _c44: double (nullable = true)\n",
      " |-- _c45: double (nullable = true)\n",
      " |-- _c46: double (nullable = true)\n",
      " |-- _c47: double (nullable = true)\n",
      " |-- _c48: double (nullable = true)\n",
      " |-- _c49: double (nullable = true)\n",
      " |-- _c50: double (nullable = true)\n",
      " |-- _c51: double (nullable = true)\n",
      " |-- _c52: double (nullable = true)\n",
      " |-- _c53: double (nullable = true)\n",
      " |-- _c54: double (nullable = true)\n",
      " |-- _c55: double (nullable = true)\n",
      " |-- _c56: double (nullable = true)\n",
      " |-- _c57: double (nullable = true)\n",
      " |-- _c58: double (nullable = true)\n",
      " |-- _c59: double (nullable = true)\n",
      " |-- _c60: double (nullable = true)\n",
      " |-- _c61: double (nullable = true)\n",
      " |-- _c62: double (nullable = true)\n",
      " |-- _c63: double (nullable = true)\n",
      " |-- _c64: double (nullable = true)\n",
      " |-- _c65: double (nullable = true)\n",
      " |-- _c66: double (nullable = true)\n",
      " |-- _c67: double (nullable = true)\n",
      " |-- _c68: double (nullable = true)\n",
      " |-- _c69: double (nullable = true)\n",
      " |-- _c70: double (nullable = true)\n",
      " |-- _c71: double (nullable = true)\n",
      " |-- _c72: double (nullable = true)\n",
      " |-- _c73: double (nullable = true)\n",
      " |-- _c74: double (nullable = true)\n",
      " |-- _c75: double (nullable = true)\n",
      " |-- _c76: double (nullable = true)\n",
      " |-- _c77: double (nullable = true)\n",
      " |-- _c78: double (nullable = true)\n",
      " |-- _c79: double (nullable = true)\n",
      " |-- _c80: double (nullable = true)\n",
      " |-- _c81: double (nullable = true)\n",
      " |-- _c82: double (nullable = true)\n",
      " |-- _c83: double (nullable = true)\n",
      " |-- _c84: double (nullable = true)\n",
      " |-- _c85: double (nullable = true)\n",
      " |-- _c86: double (nullable = true)\n",
      " |-- _c87: double (nullable = true)\n",
      " |-- _c88: double (nullable = true)\n",
      " |-- _c89: double (nullable = true)\n",
      " |-- _c90: double (nullable = true)\n",
      " |-- _c91: double (nullable = true)\n",
      " |-- _c92: double (nullable = true)\n",
      " |-- _c93: double (nullable = true)\n",
      " |-- _c94: double (nullable = true)\n",
      " |-- _c95: double (nullable = true)\n",
      " |-- _c96: double (nullable = true)\n",
      " |-- _c97: double (nullable = true)\n",
      " |-- _c98: double (nullable = true)\n",
      " |-- _c99: double (nullable = true)\n",
      " |-- _c100: double (nullable = true)\n",
      " |-- _c101: double (nullable = true)\n",
      " |-- _c102: double (nullable = true)\n",
      " |-- _c103: double (nullable = true)\n",
      " |-- _c104: double (nullable = true)\n",
      " |-- _c105: double (nullable = true)\n",
      " |-- _c106: double (nullable = true)\n",
      " |-- _c107: double (nullable = true)\n",
      " |-- _c108: double (nullable = true)\n",
      " |-- _c109: double (nullable = true)\n",
      " |-- _c110: double (nullable = true)\n",
      " |-- _c111: double (nullable = true)\n",
      " |-- _c112: double (nullable = true)\n",
      " |-- _c113: double (nullable = true)\n",
      " |-- _c114: double (nullable = true)\n",
      " |-- _c115: double (nullable = true)\n",
      " |-- _c116: double (nullable = true)\n",
      " |-- _c117: double (nullable = true)\n",
      " |-- _c118: double (nullable = true)\n",
      " |-- _c119: double (nullable = true)\n",
      " |-- _c120: double (nullable = true)\n",
      " |-- _c121: double (nullable = true)\n",
      " |-- _c122: double (nullable = true)\n",
      " |-- _c123: double (nullable = true)\n",
      " |-- _c124: double (nullable = true)\n",
      " |-- _c125: double (nullable = true)\n",
      " |-- _c126: double (nullable = true)\n",
      " |-- _c127: double (nullable = true)\n",
      " |-- _c128: double (nullable = true)\n",
      " |-- _c129: double (nullable = true)\n",
      " |-- _c130: double (nullable = true)\n",
      " |-- _c131: double (nullable = true)\n",
      " |-- _c132: double (nullable = true)\n",
      " |-- _c133: double (nullable = true)\n",
      " |-- _c134: double (nullable = true)\n",
      " |-- _c135: double (nullable = true)\n",
      " |-- _c136: double (nullable = true)\n",
      " |-- _c137: double (nullable = true)\n",
      " |-- _c138: double (nullable = true)\n",
      " |-- _c139: double (nullable = true)\n",
      " |-- _c140: double (nullable = true)\n",
      " |-- _c141: double (nullable = true)\n",
      " |-- _c142: double (nullable = true)\n",
      " |-- _c143: double (nullable = true)\n",
      " |-- _c144: double (nullable = true)\n",
      " |-- _c145: double (nullable = true)\n",
      " |-- _c146: double (nullable = true)\n",
      " |-- _c147: double (nullable = true)\n",
      " |-- _c148: double (nullable = true)\n",
      " |-- _c149: double (nullable = true)\n",
      " |-- _c150: double (nullable = true)\n",
      " |-- _c151: double (nullable = true)\n",
      " |-- _c152: double (nullable = true)\n",
      " |-- _c153: double (nullable = true)\n",
      " |-- _c154: double (nullable = true)\n",
      " |-- _c155: double (nullable = true)\n",
      " |-- _c156: double (nullable = true)\n",
      " |-- _c157: double (nullable = true)\n",
      " |-- _c158: double (nullable = true)\n",
      " |-- _c159: double (nullable = true)\n",
      " |-- _c160: double (nullable = true)\n",
      " |-- _c161: double (nullable = true)\n",
      " |-- _c162: double (nullable = true)\n",
      " |-- _c163: double (nullable = true)\n",
      " |-- _c164: double (nullable = true)\n",
      " |-- _c165: double (nullable = true)\n",
      " |-- _c166: double (nullable = true)\n",
      " |-- _c167: double (nullable = true)\n",
      " |-- _c168: double (nullable = true)\n",
      " |-- _c169: double (nullable = true)\n",
      " |-- _c170: double (nullable = true)\n",
      " |-- _c171: double (nullable = true)\n",
      " |-- _c172: double (nullable = true)\n",
      " |-- _c173: double (nullable = true)\n",
      " |-- _c174: double (nullable = true)\n",
      " |-- _c175: double (nullable = true)\n",
      " |-- _c176: double (nullable = true)\n",
      " |-- _c177: double (nullable = true)\n",
      " |-- _c178: double (nullable = true)\n",
      " |-- _c179: double (nullable = true)\n",
      " |-- _c180: double (nullable = true)\n",
      " |-- _c181: double (nullable = true)\n",
      " |-- _c182: double (nullable = true)\n",
      " |-- _c183: double (nullable = true)\n",
      " |-- _c184: double (nullable = true)\n",
      " |-- _c185: double (nullable = true)\n",
      " |-- _c186: double (nullable = true)\n",
      " |-- _c187: double (nullable = true)\n",
      " |-- _c188: double (nullable = true)\n",
      " |-- _c189: double (nullable = true)\n",
      " |-- _c190: double (nullable = true)\n",
      " |-- _c191: double (nullable = true)\n",
      " |-- _c192: double (nullable = true)\n",
      " |-- _c193: double (nullable = true)\n",
      " |-- _c194: double (nullable = true)\n",
      " |-- _c195: double (nullable = true)\n",
      " |-- _c196: double (nullable = true)\n",
      " |-- _c197: double (nullable = true)\n",
      " |-- _c198: double (nullable = true)\n",
      " |-- _c199: double (nullable = true)\n",
      " |-- _c200: double (nullable = true)\n",
      " |-- _c201: double (nullable = true)\n",
      " |-- _c202: double (nullable = true)\n",
      " |-- _c203: double (nullable = true)\n",
      " |-- _c204: double (nullable = true)\n",
      " |-- _c205: double (nullable = true)\n",
      " |-- _c206: double (nullable = true)\n",
      " |-- _c207: double (nullable = true)\n",
      " |-- _c208: double (nullable = true)\n",
      " |-- _c209: double (nullable = true)\n",
      " |-- _c210: double (nullable = true)\n",
      " |-- _c211: double (nullable = true)\n",
      " |-- _c212: double (nullable = true)\n",
      " |-- _c213: double (nullable = true)\n",
      " |-- _c214: double (nullable = true)\n",
      " |-- _c215: double (nullable = true)\n",
      " |-- _c216: double (nullable = true)\n",
      " |-- _c217: double (nullable = true)\n",
      " |-- _c218: double (nullable = true)\n",
      " |-- _c219: double (nullable = true)\n",
      " |-- _c220: double (nullable = true)\n",
      " |-- _c221: double (nullable = true)\n",
      " |-- _c222: double (nullable = true)\n",
      " |-- _c223: double (nullable = true)\n",
      " |-- _c224: double (nullable = true)\n",
      " |-- _c225: double (nullable = true)\n",
      " |-- _c226: double (nullable = true)\n",
      " |-- _c227: double (nullable = true)\n",
      " |-- _c228: double (nullable = true)\n",
      " |-- _c229: double (nullable = true)\n",
      " |-- _c230: double (nullable = true)\n",
      " |-- _c231: double (nullable = true)\n",
      " |-- _c232: double (nullable = true)\n",
      " |-- _c233: double (nullable = true)\n",
      " |-- _c234: double (nullable = true)\n",
      " |-- _c235: double (nullable = true)\n",
      " |-- _c236: double (nullable = true)\n",
      " |-- _c237: double (nullable = true)\n",
      " |-- _c238: double (nullable = true)\n",
      " |-- _c239: double (nullable = true)\n",
      " |-- _c240: double (nullable = true)\n",
      " |-- _c241: double (nullable = true)\n",
      " |-- _c242: double (nullable = true)\n",
      " |-- _c243: double (nullable = true)\n",
      " |-- _c244: double (nullable = true)\n",
      " |-- _c245: double (nullable = true)\n",
      " |-- _c246: double (nullable = true)\n",
      " |-- _c247: double (nullable = true)\n",
      " |-- _c248: double (nullable = true)\n",
      " |-- _c249: double (nullable = true)\n",
      " |-- _c250: double (nullable = true)\n",
      " |-- _c251: double (nullable = true)\n",
      " |-- _c252: double (nullable = true)\n",
      " |-- _c253: double (nullable = true)\n",
      " |-- _c254: double (nullable = true)\n",
      " |-- _c255: double (nullable = true)\n",
      " |-- _c256: double (nullable = true)\n",
      " |-- _c257: double (nullable = true)\n",
      " |-- _c258: double (nullable = true)\n",
      " |-- _c259: double (nullable = true)\n",
      " |-- _c260: double (nullable = true)\n",
      " |-- _c261: double (nullable = true)\n",
      " |-- _c262: double (nullable = true)\n",
      " |-- _c263: double (nullable = true)\n",
      " |-- _c264: double (nullable = true)\n",
      " |-- _c265: double (nullable = true)\n",
      " |-- _c266: double (nullable = true)\n",
      " |-- _c267: double (nullable = true)\n",
      " |-- _c268: double (nullable = true)\n",
      " |-- _c269: double (nullable = true)\n",
      " |-- _c270: double (nullable = true)\n",
      " |-- _c271: double (nullable = true)\n",
      " |-- _c272: double (nullable = true)\n",
      " |-- _c273: double (nullable = true)\n",
      " |-- _c274: double (nullable = true)\n",
      " |-- _c275: double (nullable = true)\n",
      " |-- _c276: double (nullable = true)\n",
      " |-- _c277: double (nullable = true)\n",
      " |-- _c278: double (nullable = true)\n",
      " |-- _c279: double (nullable = true)\n",
      " |-- _c280: double (nullable = true)\n",
      "\n"
     ]
    }
   ],
   "source": [
    "testdf.printSchema()"
   ]
  },
  {
   "cell_type": "code",
   "execution_count": 7,
   "metadata": {},
   "outputs": [],
   "source": [
    "traindf = spark\\\n",
    "  .read\\\n",
    "  .option(\"inferSchema\", \"true\")\\\n",
    "  .csv(\"blogData_train.csv\")"
   ]
  },
  {
   "cell_type": "code",
   "execution_count": 8,
   "metadata": {},
   "outputs": [
    {
     "data": {
      "text/plain": [
       "52397"
      ]
     },
     "execution_count": 8,
     "metadata": {},
     "output_type": "execute_result"
    }
   ],
   "source": [
    "traindf.count()"
   ]
  },
  {
   "cell_type": "code",
   "execution_count": 9,
   "metadata": {
    "scrolled": true
   },
   "outputs": [
    {
     "name": "stdout",
     "output_type": "stream",
     "text": [
      "root\n",
      " |-- _c0: double (nullable = true)\n",
      " |-- _c1: double (nullable = true)\n",
      " |-- _c2: double (nullable = true)\n",
      " |-- _c3: double (nullable = true)\n",
      " |-- _c4: double (nullable = true)\n",
      " |-- _c5: double (nullable = true)\n",
      " |-- _c6: double (nullable = true)\n",
      " |-- _c7: double (nullable = true)\n",
      " |-- _c8: double (nullable = true)\n",
      " |-- _c9: double (nullable = true)\n",
      " |-- _c10: double (nullable = true)\n",
      " |-- _c11: double (nullable = true)\n",
      " |-- _c12: double (nullable = true)\n",
      " |-- _c13: double (nullable = true)\n",
      " |-- _c14: double (nullable = true)\n",
      " |-- _c15: double (nullable = true)\n",
      " |-- _c16: double (nullable = true)\n",
      " |-- _c17: double (nullable = true)\n",
      " |-- _c18: double (nullable = true)\n",
      " |-- _c19: double (nullable = true)\n",
      " |-- _c20: double (nullable = true)\n",
      " |-- _c21: double (nullable = true)\n",
      " |-- _c22: double (nullable = true)\n",
      " |-- _c23: double (nullable = true)\n",
      " |-- _c24: double (nullable = true)\n",
      " |-- _c25: double (nullable = true)\n",
      " |-- _c26: double (nullable = true)\n",
      " |-- _c27: double (nullable = true)\n",
      " |-- _c28: double (nullable = true)\n",
      " |-- _c29: double (nullable = true)\n",
      " |-- _c30: double (nullable = true)\n",
      " |-- _c31: double (nullable = true)\n",
      " |-- _c32: double (nullable = true)\n",
      " |-- _c33: double (nullable = true)\n",
      " |-- _c34: double (nullable = true)\n",
      " |-- _c35: double (nullable = true)\n",
      " |-- _c36: double (nullable = true)\n",
      " |-- _c37: double (nullable = true)\n",
      " |-- _c38: double (nullable = true)\n",
      " |-- _c39: double (nullable = true)\n",
      " |-- _c40: double (nullable = true)\n",
      " |-- _c41: double (nullable = true)\n",
      " |-- _c42: double (nullable = true)\n",
      " |-- _c43: double (nullable = true)\n",
      " |-- _c44: double (nullable = true)\n",
      " |-- _c45: double (nullable = true)\n",
      " |-- _c46: double (nullable = true)\n",
      " |-- _c47: double (nullable = true)\n",
      " |-- _c48: double (nullable = true)\n",
      " |-- _c49: double (nullable = true)\n",
      " |-- _c50: double (nullable = true)\n",
      " |-- _c51: double (nullable = true)\n",
      " |-- _c52: double (nullable = true)\n",
      " |-- _c53: double (nullable = true)\n",
      " |-- _c54: double (nullable = true)\n",
      " |-- _c55: double (nullable = true)\n",
      " |-- _c56: double (nullable = true)\n",
      " |-- _c57: double (nullable = true)\n",
      " |-- _c58: double (nullable = true)\n",
      " |-- _c59: double (nullable = true)\n",
      " |-- _c60: double (nullable = true)\n",
      " |-- _c61: double (nullable = true)\n",
      " |-- _c62: double (nullable = true)\n",
      " |-- _c63: double (nullable = true)\n",
      " |-- _c64: double (nullable = true)\n",
      " |-- _c65: double (nullable = true)\n",
      " |-- _c66: double (nullable = true)\n",
      " |-- _c67: double (nullable = true)\n",
      " |-- _c68: double (nullable = true)\n",
      " |-- _c69: double (nullable = true)\n",
      " |-- _c70: double (nullable = true)\n",
      " |-- _c71: double (nullable = true)\n",
      " |-- _c72: double (nullable = true)\n",
      " |-- _c73: double (nullable = true)\n",
      " |-- _c74: double (nullable = true)\n",
      " |-- _c75: double (nullable = true)\n",
      " |-- _c76: double (nullable = true)\n",
      " |-- _c77: double (nullable = true)\n",
      " |-- _c78: double (nullable = true)\n",
      " |-- _c79: double (nullable = true)\n",
      " |-- _c80: double (nullable = true)\n",
      " |-- _c81: double (nullable = true)\n",
      " |-- _c82: double (nullable = true)\n",
      " |-- _c83: double (nullable = true)\n",
      " |-- _c84: double (nullable = true)\n",
      " |-- _c85: double (nullable = true)\n",
      " |-- _c86: double (nullable = true)\n",
      " |-- _c87: double (nullable = true)\n",
      " |-- _c88: double (nullable = true)\n",
      " |-- _c89: double (nullable = true)\n",
      " |-- _c90: double (nullable = true)\n",
      " |-- _c91: double (nullable = true)\n",
      " |-- _c92: double (nullable = true)\n",
      " |-- _c93: double (nullable = true)\n",
      " |-- _c94: double (nullable = true)\n",
      " |-- _c95: double (nullable = true)\n",
      " |-- _c96: double (nullable = true)\n",
      " |-- _c97: double (nullable = true)\n",
      " |-- _c98: double (nullable = true)\n",
      " |-- _c99: double (nullable = true)\n",
      " |-- _c100: double (nullable = true)\n",
      " |-- _c101: double (nullable = true)\n",
      " |-- _c102: double (nullable = true)\n",
      " |-- _c103: double (nullable = true)\n",
      " |-- _c104: double (nullable = true)\n",
      " |-- _c105: double (nullable = true)\n",
      " |-- _c106: double (nullable = true)\n",
      " |-- _c107: double (nullable = true)\n",
      " |-- _c108: double (nullable = true)\n",
      " |-- _c109: double (nullable = true)\n",
      " |-- _c110: double (nullable = true)\n",
      " |-- _c111: double (nullable = true)\n",
      " |-- _c112: double (nullable = true)\n",
      " |-- _c113: double (nullable = true)\n",
      " |-- _c114: double (nullable = true)\n",
      " |-- _c115: double (nullable = true)\n",
      " |-- _c116: double (nullable = true)\n",
      " |-- _c117: double (nullable = true)\n",
      " |-- _c118: double (nullable = true)\n",
      " |-- _c119: double (nullable = true)\n",
      " |-- _c120: double (nullable = true)\n",
      " |-- _c121: double (nullable = true)\n",
      " |-- _c122: double (nullable = true)\n",
      " |-- _c123: double (nullable = true)\n",
      " |-- _c124: double (nullable = true)\n",
      " |-- _c125: double (nullable = true)\n",
      " |-- _c126: double (nullable = true)\n",
      " |-- _c127: double (nullable = true)\n",
      " |-- _c128: double (nullable = true)\n",
      " |-- _c129: double (nullable = true)\n",
      " |-- _c130: double (nullable = true)\n",
      " |-- _c131: double (nullable = true)\n",
      " |-- _c132: double (nullable = true)\n",
      " |-- _c133: double (nullable = true)\n",
      " |-- _c134: double (nullable = true)\n",
      " |-- _c135: double (nullable = true)\n",
      " |-- _c136: double (nullable = true)\n",
      " |-- _c137: double (nullable = true)\n",
      " |-- _c138: double (nullable = true)\n",
      " |-- _c139: double (nullable = true)\n",
      " |-- _c140: double (nullable = true)\n",
      " |-- _c141: double (nullable = true)\n",
      " |-- _c142: double (nullable = true)\n",
      " |-- _c143: double (nullable = true)\n",
      " |-- _c144: double (nullable = true)\n",
      " |-- _c145: double (nullable = true)\n",
      " |-- _c146: double (nullable = true)\n",
      " |-- _c147: double (nullable = true)\n",
      " |-- _c148: double (nullable = true)\n",
      " |-- _c149: double (nullable = true)\n",
      " |-- _c150: double (nullable = true)\n",
      " |-- _c151: double (nullable = true)\n",
      " |-- _c152: double (nullable = true)\n",
      " |-- _c153: double (nullable = true)\n",
      " |-- _c154: double (nullable = true)\n",
      " |-- _c155: double (nullable = true)\n",
      " |-- _c156: double (nullable = true)\n",
      " |-- _c157: double (nullable = true)\n",
      " |-- _c158: double (nullable = true)\n",
      " |-- _c159: double (nullable = true)\n",
      " |-- _c160: double (nullable = true)\n",
      " |-- _c161: double (nullable = true)\n",
      " |-- _c162: double (nullable = true)\n",
      " |-- _c163: double (nullable = true)\n",
      " |-- _c164: double (nullable = true)\n",
      " |-- _c165: double (nullable = true)\n",
      " |-- _c166: double (nullable = true)\n",
      " |-- _c167: double (nullable = true)\n",
      " |-- _c168: double (nullable = true)\n",
      " |-- _c169: double (nullable = true)\n",
      " |-- _c170: double (nullable = true)\n",
      " |-- _c171: double (nullable = true)\n",
      " |-- _c172: double (nullable = true)\n",
      " |-- _c173: double (nullable = true)\n",
      " |-- _c174: double (nullable = true)\n",
      " |-- _c175: double (nullable = true)\n",
      " |-- _c176: double (nullable = true)\n",
      " |-- _c177: double (nullable = true)\n",
      " |-- _c178: double (nullable = true)\n",
      " |-- _c179: double (nullable = true)\n",
      " |-- _c180: double (nullable = true)\n",
      " |-- _c181: double (nullable = true)\n",
      " |-- _c182: double (nullable = true)\n",
      " |-- _c183: double (nullable = true)\n",
      " |-- _c184: double (nullable = true)\n",
      " |-- _c185: double (nullable = true)\n",
      " |-- _c186: double (nullable = true)\n",
      " |-- _c187: double (nullable = true)\n",
      " |-- _c188: double (nullable = true)\n",
      " |-- _c189: double (nullable = true)\n",
      " |-- _c190: double (nullable = true)\n",
      " |-- _c191: double (nullable = true)\n",
      " |-- _c192: double (nullable = true)\n",
      " |-- _c193: double (nullable = true)\n",
      " |-- _c194: double (nullable = true)\n",
      " |-- _c195: double (nullable = true)\n",
      " |-- _c196: double (nullable = true)\n",
      " |-- _c197: double (nullable = true)\n",
      " |-- _c198: double (nullable = true)\n",
      " |-- _c199: double (nullable = true)\n",
      " |-- _c200: double (nullable = true)\n",
      " |-- _c201: double (nullable = true)\n",
      " |-- _c202: double (nullable = true)\n",
      " |-- _c203: double (nullable = true)\n",
      " |-- _c204: double (nullable = true)\n",
      " |-- _c205: double (nullable = true)\n",
      " |-- _c206: double (nullable = true)\n",
      " |-- _c207: double (nullable = true)\n",
      " |-- _c208: double (nullable = true)\n",
      " |-- _c209: double (nullable = true)\n",
      " |-- _c210: double (nullable = true)\n",
      " |-- _c211: double (nullable = true)\n",
      " |-- _c212: double (nullable = true)\n",
      " |-- _c213: double (nullable = true)\n",
      " |-- _c214: double (nullable = true)\n",
      " |-- _c215: double (nullable = true)\n",
      " |-- _c216: double (nullable = true)\n",
      " |-- _c217: double (nullable = true)\n",
      " |-- _c218: double (nullable = true)\n",
      " |-- _c219: double (nullable = true)\n",
      " |-- _c220: double (nullable = true)\n",
      " |-- _c221: double (nullable = true)\n",
      " |-- _c222: double (nullable = true)\n",
      " |-- _c223: double (nullable = true)\n",
      " |-- _c224: double (nullable = true)\n",
      " |-- _c225: double (nullable = true)\n",
      " |-- _c226: double (nullable = true)\n",
      " |-- _c227: double (nullable = true)\n",
      " |-- _c228: double (nullable = true)\n",
      " |-- _c229: double (nullable = true)\n",
      " |-- _c230: double (nullable = true)\n",
      " |-- _c231: double (nullable = true)\n",
      " |-- _c232: double (nullable = true)\n",
      " |-- _c233: double (nullable = true)\n",
      " |-- _c234: double (nullable = true)\n",
      " |-- _c235: double (nullable = true)\n",
      " |-- _c236: double (nullable = true)\n",
      " |-- _c237: double (nullable = true)\n",
      " |-- _c238: double (nullable = true)\n",
      " |-- _c239: double (nullable = true)\n",
      " |-- _c240: double (nullable = true)\n",
      " |-- _c241: double (nullable = true)\n",
      " |-- _c242: double (nullable = true)\n",
      " |-- _c243: double (nullable = true)\n",
      " |-- _c244: double (nullable = true)\n",
      " |-- _c245: double (nullable = true)\n",
      " |-- _c246: double (nullable = true)\n",
      " |-- _c247: double (nullable = true)\n",
      " |-- _c248: double (nullable = true)\n",
      " |-- _c249: double (nullable = true)\n",
      " |-- _c250: double (nullable = true)\n",
      " |-- _c251: double (nullable = true)\n",
      " |-- _c252: double (nullable = true)\n",
      " |-- _c253: double (nullable = true)\n",
      " |-- _c254: double (nullable = true)\n",
      " |-- _c255: double (nullable = true)\n",
      " |-- _c256: double (nullable = true)\n",
      " |-- _c257: double (nullable = true)\n",
      " |-- _c258: double (nullable = true)\n",
      " |-- _c259: double (nullable = true)\n",
      " |-- _c260: double (nullable = true)\n",
      " |-- _c261: double (nullable = true)\n",
      " |-- _c262: double (nullable = true)\n",
      " |-- _c263: double (nullable = true)\n",
      " |-- _c264: double (nullable = true)\n",
      " |-- _c265: double (nullable = true)\n",
      " |-- _c266: double (nullable = true)\n",
      " |-- _c267: double (nullable = true)\n",
      " |-- _c268: double (nullable = true)\n",
      " |-- _c269: double (nullable = true)\n",
      " |-- _c270: double (nullable = true)\n",
      " |-- _c271: double (nullable = true)\n",
      " |-- _c272: double (nullable = true)\n",
      " |-- _c273: double (nullable = true)\n",
      " |-- _c274: double (nullable = true)\n",
      " |-- _c275: double (nullable = true)\n",
      " |-- _c276: double (nullable = true)\n",
      " |-- _c277: double (nullable = true)\n",
      " |-- _c278: double (nullable = true)\n",
      " |-- _c279: double (nullable = true)\n",
      " |-- _c280: double (nullable = true)\n",
      "\n"
     ]
    }
   ],
   "source": [
    "traindf.printSchema()"
   ]
  },
  {
   "cell_type": "markdown",
   "metadata": {},
   "source": [
    "Firstly, for further understanding I tried to check unique target variables in train dataset with the command below. There were 438 different target variable appeared at total. "
   ]
  },
  {
   "cell_type": "code",
   "execution_count": 10,
   "metadata": {},
   "outputs": [
    {
     "data": {
      "text/plain": [
       "438"
      ]
     },
     "execution_count": 10,
     "metadata": {},
     "output_type": "execute_result"
    }
   ],
   "source": [
    "traindf.select(\"_c280\").distinct().orderBy(\"_c280\").count()"
   ]
  },
  {
   "cell_type": "markdown",
   "metadata": {},
   "source": [
    "For prediction I used MLib library by importing `pyspark.ml` and algorithms in this MLib library requires that the data is numerical. And as it can be observed from the results of PrintSchema command, all columns are already numeric and ready to implement an algorithm. \n",
    "\n",
    "But first, I needed to collect all feature columns in one vector. Only the last column was target variable and all others were features. I used a `VectorAssembler` to create the new column containing the features vector."
   ]
  },
  {
   "cell_type": "code",
   "execution_count": 11,
   "metadata": {},
   "outputs": [],
   "source": [
    "import random\n",
    "random.seed(2019)"
   ]
  },
  {
   "cell_type": "code",
   "execution_count": 12,
   "metadata": {},
   "outputs": [],
   "source": [
    "from pyspark.ml.feature import VectorAssembler\n",
    "\n",
    "label_col = traindf.columns[-1]\n",
    "\n",
    "assembler = VectorAssembler(\n",
    "    inputCols=[ x for x in traindf.columns[:-1] ],\n",
    "    outputCol='features')\n",
    "\n",
    "traindata = assembler.transform(traindf)"
   ]
  },
  {
   "cell_type": "code",
   "execution_count": 13,
   "metadata": {},
   "outputs": [],
   "source": [
    "label_coltest = testdf.columns[-1]\n",
    "\n",
    "assembler = VectorAssembler(\n",
    "    inputCols=[ x for x in testdf.columns[:-1] ],\n",
    "    outputCol='features')\n",
    "\n",
    "testdata = assembler.transform(testdf)"
   ]
  },
  {
   "cell_type": "markdown",
   "metadata": {},
   "source": [
    "# Decision Tree Regression\n",
    "\n",
    "Since the target data was continous, I planned to use Decision Tree Regression, Random Forest Regression, Gradient Boosting Regression, Linear Regression, Generalized Linear Regression models. And I first began with Decision Tree Regression.\n",
    "\n",
    "The spark.ml implementation supports decision trees for binary and multiclass classification and for regression, using both continuous as well as categorical features. \n",
    "\n",
    "From now on I used the vectors created from train and test datasets to train models and make predictions. "
   ]
  },
  {
   "cell_type": "code",
   "execution_count": 14,
   "metadata": {},
   "outputs": [],
   "source": [
    "import random\n",
    "random.seed(2019)"
   ]
  },
  {
   "cell_type": "code",
   "execution_count": 15,
   "metadata": {},
   "outputs": [],
   "source": [
    "from pyspark.ml.regression import DecisionTreeRegressor\n",
    "dt = DecisionTreeRegressor(featuresCol ='features', labelCol = label_col)\n",
    "dt_model = dt.fit(traindata)"
   ]
  },
  {
   "cell_type": "code",
   "execution_count": 16,
   "metadata": {},
   "outputs": [
    {
     "name": "stdout",
     "output_type": "stream",
     "text": [
      "Root Mean Squared Error (RMSE) on test data = 24.344\n"
     ]
    }
   ],
   "source": [
    "from pyspark.ml.evaluation import RegressionEvaluator\n",
    "\n",
    "dt_predictions = dt_model.transform(testdata)\n",
    "dt_evaluator = RegressionEvaluator(\n",
    "    labelCol=label_coltest, predictionCol=\"prediction\", metricName=\"rmse\")\n",
    "rmse = dt_evaluator.evaluate(dt_predictions)\n",
    "print(\"Root Mean Squared Error (RMSE) on test data = %g\" % rmse)"
   ]
  },
  {
   "cell_type": "code",
   "execution_count": 17,
   "metadata": {},
   "outputs": [
    {
     "name": "stdout",
     "output_type": "stream",
     "text": [
      "+------------------+-----+--------------------+\n",
      "|        prediction|_c280|            features|\n",
      "+------------------+-----+--------------------+\n",
      "|0.6974973390464234|  0.0|(280,[0,1,3,5,6,8...|\n",
      "|0.6974973390464234|  2.0|(280,[0,1,2,3,4,5...|\n",
      "|0.6974973390464234|  0.0|(280,[25,26,28,30...|\n",
      "|0.6974973390464234|  0.0|(280,[0,1,3,4,5,6...|\n",
      "|0.6974973390464234|  0.0|(280,[25,27,28,29...|\n",
      "+------------------+-----+--------------------+\n",
      "only showing top 5 rows\n",
      "\n"
     ]
    }
   ],
   "source": [
    "dt_predictions.select('prediction', label_coltest, 'features').show(5)"
   ]
  },
  {
   "cell_type": "markdown",
   "metadata": {},
   "source": [
    "By using trained Decision Tree Regression Model, I made predictions on test data and as a result to check model accuracy, I printed Root Mean Squared Error (RMSE) on test data which equal to 24.344. "
   ]
  },
  {
   "cell_type": "markdown",
   "metadata": {},
   "source": [
    "# Random forest regression\n",
    "\n",
    "Random forests are ensembles of decision trees. Random forests combine many decision trees in order to reduce the risk of overfitting. The spark.ml implementation supports random forests for binary and multiclass classification and for regression, using both continuous and categorical features."
   ]
  },
  {
   "cell_type": "code",
   "execution_count": 18,
   "metadata": {},
   "outputs": [],
   "source": [
    "import random\n",
    "random.seed(2019)"
   ]
  },
  {
   "cell_type": "code",
   "execution_count": 19,
   "metadata": {},
   "outputs": [],
   "source": [
    "from pyspark.ml.regression import RandomForestRegressor\n",
    "rf = RandomForestRegressor(featuresCol ='features', labelCol = label_col)\n",
    "rf_model = rf.fit(traindata)"
   ]
  },
  {
   "cell_type": "code",
   "execution_count": 20,
   "metadata": {},
   "outputs": [
    {
     "name": "stdout",
     "output_type": "stream",
     "text": [
      "Root Mean Squared Error (RMSE) on test data = 24.344\n"
     ]
    }
   ],
   "source": [
    "rf_predictions = rf_model.transform(testdata)\n",
    "rf_evaluator = RegressionEvaluator(\n",
    "    labelCol=label_coltest, predictionCol=\"prediction\", metricName=\"rmse\")\n",
    "rmse = rf_evaluator.evaluate(dt_predictions)\n",
    "print(\"Root Mean Squared Error (RMSE) on test data = %g\" % rmse)"
   ]
  },
  {
   "cell_type": "code",
   "execution_count": 21,
   "metadata": {},
   "outputs": [
    {
     "name": "stdout",
     "output_type": "stream",
     "text": [
      "+------------------+-----+--------------------+\n",
      "|        prediction|_c280|            features|\n",
      "+------------------+-----+--------------------+\n",
      "|0.5454426268790066|  0.0|(280,[0,1,3,5,6,8...|\n",
      "|1.1934745676508776|  2.0|(280,[0,1,2,3,4,5...|\n",
      "|0.5454426268790066|  0.0|(280,[25,26,28,30...|\n",
      "|2.1812232465179284|  0.0|(280,[0,1,3,4,5,6...|\n",
      "|0.6417145455456952|  0.0|(280,[25,27,28,29...|\n",
      "+------------------+-----+--------------------+\n",
      "only showing top 5 rows\n",
      "\n"
     ]
    }
   ],
   "source": [
    "rf_predictions.select('prediction', label_coltest, 'features').show(5)"
   ]
  },
  {
   "cell_type": "markdown",
   "metadata": {},
   "source": [
    "By using trained Random Forest Regression Model, I made predictions on test data and as a result to check model accuracy, I printed Root Mean Squared Error (RMSE) on test data which was equal to the RMSE generated from DT as well with value of 24.344. "
   ]
  },
  {
   "cell_type": "markdown",
   "metadata": {},
   "source": [
    "# Gradient-boosted tree regression\n",
    "\n",
    "Gradient-Boosted Trees (GBTs) are again ensembles of decision trees. GBTs iteratively train decision trees in order to minimize a loss function. The spark.ml implementation supports GBTs for binary classification and for regression, using both continuous and categorical features."
   ]
  },
  {
   "cell_type": "code",
   "execution_count": 22,
   "metadata": {},
   "outputs": [],
   "source": [
    "import random\n",
    "random.seed(2019)"
   ]
  },
  {
   "cell_type": "code",
   "execution_count": 23,
   "metadata": {},
   "outputs": [],
   "source": [
    "from pyspark.ml.regression import GBTRegressor\n",
    "gbt = GBTRegressor(featuresCol = 'features', labelCol = label_col, maxIter=10)\n",
    "gbt_model = gbt.fit(traindata)"
   ]
  },
  {
   "cell_type": "code",
   "execution_count": 24,
   "metadata": {},
   "outputs": [
    {
     "name": "stdout",
     "output_type": "stream",
     "text": [
      "+------------------+-----+--------------------+\n",
      "|        prediction|_c280|            features|\n",
      "+------------------+-----+--------------------+\n",
      "|0.1192245348327167|  0.0|(280,[0,1,3,5,6,8...|\n",
      "| 1.341459192150167|  2.0|(280,[0,1,2,3,4,5...|\n",
      "|0.1192245348327167|  0.0|(280,[25,26,28,30...|\n",
      "|0.3730967618086877|  0.0|(280,[0,1,3,4,5,6...|\n",
      "| 0.504965564412016|  0.0|(280,[25,27,28,29...|\n",
      "+------------------+-----+--------------------+\n",
      "only showing top 5 rows\n",
      "\n"
     ]
    }
   ],
   "source": [
    "gbt_predictions = gbt_model.transform(testdata)\n",
    "gbt_predictions.select('prediction', label_coltest, 'features').show(5)"
   ]
  },
  {
   "cell_type": "code",
   "execution_count": 26,
   "metadata": {},
   "outputs": [
    {
     "name": "stdout",
     "output_type": "stream",
     "text": [
      "Root Mean Squared Error (RMSE) on test data = 23.8821\n"
     ]
    }
   ],
   "source": [
    "gbt_evaluator = RegressionEvaluator(\n",
    "    labelCol=label_coltest, predictionCol=\"prediction\", metricName=\"rmse\")\n",
    "rmse = gbt_evaluator.evaluate(gbt_predictions)\n",
    "print(\"Root Mean Squared Error (RMSE) on test data = %g\" % rmse)"
   ]
  },
  {
   "cell_type": "markdown",
   "metadata": {},
   "source": [
    "Root Mean Squared Error (RMSE) generated from Gradient-boosted Tree Regression by predicting on test data was 24.0679.\n",
    "\n",
    "The root-mean-square error is a frequently used measure of the differences between values predicted by a model or an estimator and the values observed, so it is expected to be lower for a better prediction. In this case, this model performs better related to DT and RF models on test data according to their RMSE values. "
   ]
  },
  {
   "cell_type": "markdown",
   "metadata": {},
   "source": [
    "## Linear Regression"
   ]
  },
  {
   "cell_type": "code",
   "execution_count": 27,
   "metadata": {},
   "outputs": [],
   "source": [
    "import random\n",
    "random.seed(2019)"
   ]
  },
  {
   "cell_type": "code",
   "execution_count": 28,
   "metadata": {},
   "outputs": [],
   "source": [
    "from pyspark.ml.regression import LinearRegression\n",
    "\n",
    "lr = LinearRegression(featuresCol = 'features', labelCol=label_col, maxIter=10, regParam=0.3, elasticNetParam=0.8)\n",
    "lr_model = lr.fit(traindata)"
   ]
  },
  {
   "cell_type": "code",
   "execution_count": 29,
   "metadata": {},
   "outputs": [
    {
     "name": "stdout",
     "output_type": "stream",
     "text": [
      "RMSE: 30.304233\n",
      "r2: 0.354077\n"
     ]
    }
   ],
   "source": [
    "trainingSummary = lr_model.summary\n",
    "print(\"RMSE: %f\" % trainingSummary.rootMeanSquaredError)\n",
    "print(\"r2: %f\" % trainingSummary.r2)"
   ]
  },
  {
   "cell_type": "markdown",
   "metadata": {},
   "source": [
    "R^2 indicates that 35% of the variability in target variable (the number of comments) can be explained using this model for the training data.  However, I should be cautious that the performance on the training data may not a good approximation of the performance on the test data(unseen data from model)."
   ]
  },
  {
   "cell_type": "code",
   "execution_count": 30,
   "metadata": {},
   "outputs": [
    {
     "name": "stdout",
     "output_type": "stream",
     "text": [
      "+-------------------+-----+--------------------+\n",
      "|         prediction|_c280|            features|\n",
      "+-------------------+-----+--------------------+\n",
      "| 0.3951240540144729|  0.0|(280,[0,1,3,5,6,8...|\n",
      "|  9.671163253091592|  2.0|(280,[0,1,2,3,4,5...|\n",
      "| -4.689294185569542|  0.0|(280,[25,26,28,30...|\n",
      "|-1.7490783315701872|  0.0|(280,[0,1,3,4,5,6...|\n",
      "| 1.7935638672743517|  0.0|(280,[25,27,28,29...|\n",
      "+-------------------+-----+--------------------+\n",
      "only showing top 5 rows\n",
      "\n"
     ]
    }
   ],
   "source": [
    "lr_predictions = lr_model.transform(testdata)\n",
    "lr_predictions.select(\"prediction\",label_coltest,\"features\").show(5)"
   ]
  },
  {
   "cell_type": "code",
   "execution_count": 31,
   "metadata": {},
   "outputs": [
    {
     "name": "stdout",
     "output_type": "stream",
     "text": [
      "R Squared (R2) on test data = 0.337531\n"
     ]
    }
   ],
   "source": [
    "lr_evaluator = RegressionEvaluator(predictionCol=\"prediction\", \\\n",
    "                 labelCol=label_coltest,metricName=\"r2\")\n",
    "print(\"R Squared (R2) on test data = %g\" % lr_evaluator.evaluate(lr_predictions))"
   ]
  },
  {
   "cell_type": "code",
   "execution_count": 32,
   "metadata": {},
   "outputs": [
    {
     "name": "stdout",
     "output_type": "stream",
     "text": [
      "Root Mean Squared Error (RMSE) on test data = 24.8245\n"
     ]
    }
   ],
   "source": [
    "test_result = lr_model.evaluate(testdata)\n",
    "print(\"Root Mean Squared Error (RMSE) on test data = %g\" % test_result.rootMeanSquaredError)"
   ]
  },
  {
   "cell_type": "markdown",
   "metadata": {},
   "source": [
    "R^2 indicates that 33.75% of the variability in target variable (the number of comments) can be explained using this model for the test data. It seems that trained model works well with the unseen data as well. \n",
    "\n",
    "However it seems from RMSE value that, its prediction variance is slightly higher than Decision Tree based models, which means predictions were worse than DT models regarding to prediction accuracy."
   ]
  },
  {
   "cell_type": "markdown",
   "metadata": {},
   "source": [
    "# Generalized Linear Regression\n",
    "\n",
    "Contrasted with linear regression where the output is assumed to follow a Gaussian distribution, generalized linear models (GLMs) are specifications of linear models where the response variable Yi follows some distribution from the exponential family of distributions. \n",
    "\n",
    "In this trained model below, I demonstrated training a GLM with a Poisson response and log link function."
   ]
  },
  {
   "cell_type": "code",
   "execution_count": 33,
   "metadata": {},
   "outputs": [],
   "source": [
    "import random\n",
    "random.seed(2019)"
   ]
  },
  {
   "cell_type": "code",
   "execution_count": 35,
   "metadata": {},
   "outputs": [],
   "source": [
    "from pyspark.ml.regression import GeneralizedLinearRegression\n",
    "\n",
    "glr = GeneralizedLinearRegression(featuresCol = 'features', labelCol=label_col, \n",
    "                                  family=\"poisson\", link=\"log\", maxIter=10, regParam=0.3)\n",
    "glr_model = glr.fit(traindata)"
   ]
  },
  {
   "cell_type": "code",
   "execution_count": 36,
   "metadata": {},
   "outputs": [
    {
     "name": "stdout",
     "output_type": "stream",
     "text": [
      "Residual Degree Of Freedom: 52116\n"
     ]
    }
   ],
   "source": [
    "summary = glr_model.summary\n",
    "print(\"Residual Degree Of Freedom: \" + str(summary.residualDegreeOfFreedom))"
   ]
  },
  {
   "cell_type": "code",
   "execution_count": 37,
   "metadata": {},
   "outputs": [
    {
     "name": "stdout",
     "output_type": "stream",
     "text": [
      "+--------------------+\n",
      "|   devianceResiduals|\n",
      "+--------------------+\n",
      "|   -4.36659741082731|\n",
      "|  -4.010295272297183|\n",
      "|  -4.010295272297183|\n",
      "|   -4.36659741082731|\n",
      "|   5.197808467799306|\n",
      "|  -3.165968698158762|\n",
      "|  -3.165968698158762|\n",
      "|   5.197808467799306|\n",
      "|  1.3926179028167147|\n",
      "|  1.3926179028167147|\n",
      "|  -5.148275567795249|\n",
      "|  -4.075641947734064|\n",
      "|  -4.206389861598059|\n",
      "|  -3.148659070107025|\n",
      "|-0.29914644600813817|\n",
      "|  0.7314546985000732|\n",
      "| -2.1839420160485075|\n",
      "|  0.7314546985000732|\n",
      "|-0.29914644600813817|\n",
      "|  -3.145627381697337|\n",
      "+--------------------+\n",
      "only showing top 20 rows\n",
      "\n"
     ]
    }
   ],
   "source": [
    "summary.residuals().show()"
   ]
  },
  {
   "cell_type": "code",
   "execution_count": 38,
   "metadata": {},
   "outputs": [
    {
     "name": "stdout",
     "output_type": "stream",
     "text": [
      "+------------------+-----+--------------------+\n",
      "|        prediction|_c280|            features|\n",
      "+------------------+-----+--------------------+\n",
      "| 5.202500944367718|  0.0|(280,[0,1,3,5,6,8...|\n",
      "|  9.54598517051311|  2.0|(280,[0,1,2,3,4,5...|\n",
      "|3.0484806811911596|  0.0|(280,[25,26,28,30...|\n",
      "| 5.283403397463622|  0.0|(280,[0,1,3,4,5,6...|\n",
      "| 6.998762099408029|  0.0|(280,[25,27,28,29...|\n",
      "+------------------+-----+--------------------+\n",
      "only showing top 5 rows\n",
      "\n"
     ]
    }
   ],
   "source": [
    "glr_predictions = glr_model.transform(testdata)\n",
    "glr_predictions.select(\"prediction\",label_coltest,\"features\").show(5)"
   ]
  },
  {
   "cell_type": "code",
   "execution_count": 39,
   "metadata": {},
   "outputs": [
    {
     "name": "stdout",
     "output_type": "stream",
     "text": [
      "R Squared (R2) on test data = 0.352158\n"
     ]
    }
   ],
   "source": [
    "glr_evaluator = RegressionEvaluator(predictionCol=\"prediction\", \\\n",
    "                 labelCol=label_coltest,metricName=\"r2\")\n",
    "print(\"R Squared (R2) on test data = %g\" % glr_evaluator.evaluate(glr_predictions))"
   ]
  },
  {
   "cell_type": "markdown",
   "metadata": {},
   "source": [
    "Since it did not provide me RMSE value and did not allow me to calculate manually by taking root of mean of sum of square of residuals, I cannot compare this model with Decision Tree based models in terms of performance. However, it performed better than Linear Regression regarding to its R^2 value, which was 35%. "
   ]
  }
 ],
 "metadata": {
  "kernelspec": {
   "display_name": "Python 3",
   "language": "python",
   "name": "python3"
  },
  "language_info": {
   "codemirror_mode": {
    "name": "ipython",
    "version": 3
   },
   "file_extension": ".py",
   "mimetype": "text/x-python",
   "name": "python",
   "nbconvert_exporter": "python",
   "pygments_lexer": "ipython3",
   "version": "3.7.3"
  }
 },
 "nbformat": 4,
 "nbformat_minor": 2
}
